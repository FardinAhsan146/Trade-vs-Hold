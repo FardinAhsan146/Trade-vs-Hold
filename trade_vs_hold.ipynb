{
 "cells": [
  {
   "cell_type": "markdown",
   "metadata": {},
   "source": [
    "# Holding vs trading as an investment strategy, naive \n",
    "\n",
    "H0 = Trading proft > Holding profit"
   ]
  },
  {
   "cell_type": "code",
   "execution_count": 118,
   "metadata": {},
   "outputs": [],
   "source": [
    "import pandas as pd\n",
    "import yfinance as yf\n",
    "import datetime\n",
    "import time\n",
    "from matplotlib import pyplot as plt\n",
    "import numpy as np\n",
    "from scipy.signal import argrelextrema\n"
   ]
  },
  {
   "cell_type": "markdown",
   "metadata": {},
   "source": [
    "I'll use Microsoft stock price as an example, you can use this for any other time series. "
   ]
  },
  {
   "cell_type": "code",
   "execution_count": 119,
   "metadata": {},
   "outputs": [],
   "source": [
    "#Starting from today, to a year ago\n",
    "start = datetime.datetime.now() - datetime.timedelta(days=365)\n",
    "end = datetime.datetime.now()\n",
    "\n",
    "tickerSymbol = 'MSFT'\n",
    "tickerData = yf.Ticker(tickerSymbol)\n",
    "\n",
    "df = tickerData.history(period = '1d', start = start, end = end)"
   ]
  },
  {
   "cell_type": "code",
   "execution_count": 120,
   "metadata": {},
   "outputs": [
    {
     "data": {
      "text/html": [
       "<div>\n",
       "<style scoped>\n",
       "    .dataframe tbody tr th:only-of-type {\n",
       "        vertical-align: middle;\n",
       "    }\n",
       "\n",
       "    .dataframe tbody tr th {\n",
       "        vertical-align: top;\n",
       "    }\n",
       "\n",
       "    .dataframe thead th {\n",
       "        text-align: right;\n",
       "    }\n",
       "</style>\n",
       "<table border=\"1\" class=\"dataframe\">\n",
       "  <thead>\n",
       "    <tr style=\"text-align: right;\">\n",
       "      <th></th>\n",
       "      <th>Open</th>\n",
       "      <th>High</th>\n",
       "      <th>Low</th>\n",
       "      <th>Close</th>\n",
       "      <th>Volume</th>\n",
       "      <th>Dividends</th>\n",
       "      <th>Stock Splits</th>\n",
       "    </tr>\n",
       "    <tr>\n",
       "      <th>Date</th>\n",
       "      <th></th>\n",
       "      <th></th>\n",
       "      <th></th>\n",
       "      <th></th>\n",
       "      <th></th>\n",
       "      <th></th>\n",
       "      <th></th>\n",
       "    </tr>\n",
       "  </thead>\n",
       "  <tbody>\n",
       "    <tr>\n",
       "      <th>2020-03-30</th>\n",
       "      <td>150.906491</td>\n",
       "      <td>158.984406</td>\n",
       "      <td>148.500928</td>\n",
       "      <td>158.618118</td>\n",
       "      <td>63420300</td>\n",
       "      <td>0.0</td>\n",
       "      <td>0</td>\n",
       "    </tr>\n",
       "    <tr>\n",
       "      <th>2020-03-31</th>\n",
       "      <td>157.796460</td>\n",
       "      <td>163.122343</td>\n",
       "      <td>154.985034</td>\n",
       "      <td>156.123474</td>\n",
       "      <td>77927200</td>\n",
       "      <td>0.0</td>\n",
       "      <td>0</td>\n",
       "    </tr>\n",
       "    <tr>\n",
       "      <th>2020-04-01</th>\n",
       "      <td>151.460850</td>\n",
       "      <td>156.163066</td>\n",
       "      <td>149.302787</td>\n",
       "      <td>150.579803</td>\n",
       "      <td>57969900</td>\n",
       "      <td>0.0</td>\n",
       "      <td>0</td>\n",
       "    </tr>\n",
       "    <tr>\n",
       "      <th>2020-04-02</th>\n",
       "      <td>150.332329</td>\n",
       "      <td>153.915908</td>\n",
       "      <td>148.847419</td>\n",
       "      <td>153.698120</td>\n",
       "      <td>49630700</td>\n",
       "      <td>0.0</td>\n",
       "      <td>0</td>\n",
       "    </tr>\n",
       "    <tr>\n",
       "      <th>2020-04-03</th>\n",
       "      <td>153.539729</td>\n",
       "      <td>155.796792</td>\n",
       "      <td>150.659000</td>\n",
       "      <td>152.282501</td>\n",
       "      <td>41243300</td>\n",
       "      <td>0.0</td>\n",
       "      <td>0</td>\n",
       "    </tr>\n",
       "    <tr>\n",
       "      <th>...</th>\n",
       "      <td>...</td>\n",
       "      <td>...</td>\n",
       "      <td>...</td>\n",
       "      <td>...</td>\n",
       "      <td>...</td>\n",
       "      <td>...</td>\n",
       "      <td>...</td>\n",
       "    </tr>\n",
       "    <tr>\n",
       "      <th>2021-03-22</th>\n",
       "      <td>230.270004</td>\n",
       "      <td>236.899994</td>\n",
       "      <td>230.139999</td>\n",
       "      <td>235.990005</td>\n",
       "      <td>30127000</td>\n",
       "      <td>0.0</td>\n",
       "      <td>0</td>\n",
       "    </tr>\n",
       "    <tr>\n",
       "      <th>2021-03-23</th>\n",
       "      <td>237.490005</td>\n",
       "      <td>241.050003</td>\n",
       "      <td>237.070007</td>\n",
       "      <td>237.580002</td>\n",
       "      <td>31638400</td>\n",
       "      <td>0.0</td>\n",
       "      <td>0</td>\n",
       "    </tr>\n",
       "    <tr>\n",
       "      <th>2021-03-24</th>\n",
       "      <td>237.850006</td>\n",
       "      <td>238.000000</td>\n",
       "      <td>235.320007</td>\n",
       "      <td>235.460007</td>\n",
       "      <td>25620100</td>\n",
       "      <td>0.0</td>\n",
       "      <td>0</td>\n",
       "    </tr>\n",
       "    <tr>\n",
       "      <th>2021-03-25</th>\n",
       "      <td>235.300003</td>\n",
       "      <td>236.940002</td>\n",
       "      <td>231.570007</td>\n",
       "      <td>232.339996</td>\n",
       "      <td>34061900</td>\n",
       "      <td>0.0</td>\n",
       "      <td>0</td>\n",
       "    </tr>\n",
       "    <tr>\n",
       "      <th>2021-03-26</th>\n",
       "      <td>231.550003</td>\n",
       "      <td>236.710007</td>\n",
       "      <td>231.550003</td>\n",
       "      <td>236.479996</td>\n",
       "      <td>25471700</td>\n",
       "      <td>0.0</td>\n",
       "      <td>0</td>\n",
       "    </tr>\n",
       "  </tbody>\n",
       "</table>\n",
       "<p>251 rows × 7 columns</p>\n",
       "</div>"
      ],
      "text/plain": [
       "                  Open        High         Low       Close    Volume  \\\n",
       "Date                                                                   \n",
       "2020-03-30  150.906491  158.984406  148.500928  158.618118  63420300   \n",
       "2020-03-31  157.796460  163.122343  154.985034  156.123474  77927200   \n",
       "2020-04-01  151.460850  156.163066  149.302787  150.579803  57969900   \n",
       "2020-04-02  150.332329  153.915908  148.847419  153.698120  49630700   \n",
       "2020-04-03  153.539729  155.796792  150.659000  152.282501  41243300   \n",
       "...                ...         ...         ...         ...       ...   \n",
       "2021-03-22  230.270004  236.899994  230.139999  235.990005  30127000   \n",
       "2021-03-23  237.490005  241.050003  237.070007  237.580002  31638400   \n",
       "2021-03-24  237.850006  238.000000  235.320007  235.460007  25620100   \n",
       "2021-03-25  235.300003  236.940002  231.570007  232.339996  34061900   \n",
       "2021-03-26  231.550003  236.710007  231.550003  236.479996  25471700   \n",
       "\n",
       "            Dividends  Stock Splits  \n",
       "Date                                 \n",
       "2020-03-30        0.0             0  \n",
       "2020-03-31        0.0             0  \n",
       "2020-04-01        0.0             0  \n",
       "2020-04-02        0.0             0  \n",
       "2020-04-03        0.0             0  \n",
       "...               ...           ...  \n",
       "2021-03-22        0.0             0  \n",
       "2021-03-23        0.0             0  \n",
       "2021-03-24        0.0             0  \n",
       "2021-03-25        0.0             0  \n",
       "2021-03-26        0.0             0  \n",
       "\n",
       "[251 rows x 7 columns]"
      ]
     },
     "execution_count": 120,
     "metadata": {},
     "output_type": "execute_result"
    }
   ],
   "source": [
    "df"
   ]
  },
  {
   "cell_type": "code",
   "execution_count": 121,
   "metadata": {},
   "outputs": [
    {
     "data": {
      "text/plain": [
       "<matplotlib.legend.Legend at 0x1c7cdc92250>"
      ]
     },
     "execution_count": 121,
     "metadata": {},
     "output_type": "execute_result"
    },
    {
     "data": {
      "image/png": "[encoded data removed]",
      "text/plain": [
       "<Figure size 1080x360 with 1 Axes>"
      ]
     },
     "metadata": {
      "needs_background": "light"
     },
     "output_type": "display_data"
    }
   ],
   "source": [
    "plt.figure(figsize=(15,5))\n",
    "plt.plot(df[\"Close\"],label=\"Closing price, MSFT\")\n",
    "plt.grid()\n",
    "plt.legend(loc='upper left',fontsize=\"x-large\")"
   ]
  },
  {
   "cell_type": "markdown",
   "metadata": {},
   "source": [
    "I'll add in the local minima and local maxima points into the plot."
   ]
  },
  {
   "cell_type": "code",
   "execution_count": 130,
   "metadata": {},
   "outputs": [
    {
     "data": {
      "text/plain": [
       "<matplotlib.legend.Legend at 0x1c7cfcc2f40>"
      ]
     },
     "execution_count": 130,
     "metadata": {},
     "output_type": "execute_result"
    },
    {
     "data": {
      "image/png": "[encoded data removed]",
      "text/plain": [
       "<Figure size 1080x360 with 1 Axes>"
      ]
     },
     "metadata": {
      "needs_background": "light"
     },
     "output_type": "display_data"
    }
   ],
   "source": [
    "#Identify local minima and maxima\n",
    "sensitivity = 5 #Lower number = more sensitive = more accurate trading\n",
    "\n",
    "df['min'] = df.iloc[argrelextrema(df['Close'].values, np.less_equal,\n",
    "                    order=sensitivity)[0]]['Close']\n",
    "\n",
    "df['max'] = df.iloc[argrelextrema(df['Close'].values, np.greater_equal,\n",
    "                    order=sensitivity)[0]]['Close']\n",
    "\n",
    "\n",
    "#Plot\n",
    "plt.figure(figsize=(15,5))\n",
    "plt.scatter(df.index, df['min'], c='r', label = 'Local Minima, buy')\n",
    "plt.scatter(df.index, df['max'], c='y', label = 'Local Maxima, sell')\n",
    "plt.plot(df[\"Close\"],label=\"Closing price, MSFT\")\n",
    "plt.grid()\n",
    "plt.legend(loc='upper left',fontsize=\"x-large\")"
   ]
  },
  {
   "cell_type": "code",
   "execution_count": 131,
   "metadata": {},
   "outputs": [
    {
     "data": {
      "text/html": [
       "<div>\n",
       "<style scoped>\n",
       "    .dataframe tbody tr th:only-of-type {\n",
       "        vertical-align: middle;\n",
       "    }\n",
       "\n",
       "    .dataframe tbody tr th {\n",
       "        vertical-align: top;\n",
       "    }\n",
       "\n",
       "    .dataframe thead th {\n",
       "        text-align: right;\n",
       "    }\n",
       "</style>\n",
       "<table border=\"1\" class=\"dataframe\">\n",
       "  <thead>\n",
       "    <tr style=\"text-align: right;\">\n",
       "      <th></th>\n",
       "      <th>Open</th>\n",
       "      <th>High</th>\n",
       "      <th>Low</th>\n",
       "      <th>Close</th>\n",
       "      <th>Volume</th>\n",
       "      <th>Dividends</th>\n",
       "      <th>Stock Splits</th>\n",
       "      <th>min</th>\n",
       "      <th>max</th>\n",
       "    </tr>\n",
       "    <tr>\n",
       "      <th>Date</th>\n",
       "      <th></th>\n",
       "      <th></th>\n",
       "      <th></th>\n",
       "      <th></th>\n",
       "      <th></th>\n",
       "      <th></th>\n",
       "      <th></th>\n",
       "      <th></th>\n",
       "      <th></th>\n",
       "    </tr>\n",
       "  </thead>\n",
       "  <tbody>\n",
       "    <tr>\n",
       "      <th>2020-03-30</th>\n",
       "      <td>150.906491</td>\n",
       "      <td>158.984406</td>\n",
       "      <td>148.500928</td>\n",
       "      <td>158.618118</td>\n",
       "      <td>63420300</td>\n",
       "      <td>0.0</td>\n",
       "      <td>0</td>\n",
       "      <td>NaN</td>\n",
       "      <td>NaN</td>\n",
       "    </tr>\n",
       "    <tr>\n",
       "      <th>2020-03-31</th>\n",
       "      <td>157.796460</td>\n",
       "      <td>163.122343</td>\n",
       "      <td>154.985034</td>\n",
       "      <td>156.123474</td>\n",
       "      <td>77927200</td>\n",
       "      <td>0.0</td>\n",
       "      <td>0</td>\n",
       "      <td>NaN</td>\n",
       "      <td>NaN</td>\n",
       "    </tr>\n",
       "    <tr>\n",
       "      <th>2020-04-01</th>\n",
       "      <td>151.460850</td>\n",
       "      <td>156.163066</td>\n",
       "      <td>149.302787</td>\n",
       "      <td>150.579803</td>\n",
       "      <td>57969900</td>\n",
       "      <td>0.0</td>\n",
       "      <td>0</td>\n",
       "      <td>150.579803</td>\n",
       "      <td>NaN</td>\n",
       "    </tr>\n",
       "    <tr>\n",
       "      <th>2020-04-02</th>\n",
       "      <td>150.332329</td>\n",
       "      <td>153.915908</td>\n",
       "      <td>148.847419</td>\n",
       "      <td>153.698120</td>\n",
       "      <td>49630700</td>\n",
       "      <td>0.0</td>\n",
       "      <td>0</td>\n",
       "      <td>NaN</td>\n",
       "      <td>NaN</td>\n",
       "    </tr>\n",
       "    <tr>\n",
       "      <th>2020-04-03</th>\n",
       "      <td>153.539729</td>\n",
       "      <td>155.796792</td>\n",
       "      <td>150.659000</td>\n",
       "      <td>152.282501</td>\n",
       "      <td>41243300</td>\n",
       "      <td>0.0</td>\n",
       "      <td>0</td>\n",
       "      <td>NaN</td>\n",
       "      <td>NaN</td>\n",
       "    </tr>\n",
       "    <tr>\n",
       "      <th>...</th>\n",
       "      <td>...</td>\n",
       "      <td>...</td>\n",
       "      <td>...</td>\n",
       "      <td>...</td>\n",
       "      <td>...</td>\n",
       "      <td>...</td>\n",
       "      <td>...</td>\n",
       "      <td>...</td>\n",
       "      <td>...</td>\n",
       "    </tr>\n",
       "    <tr>\n",
       "      <th>2021-03-22</th>\n",
       "      <td>230.270004</td>\n",
       "      <td>236.899994</td>\n",
       "      <td>230.139999</td>\n",
       "      <td>235.990005</td>\n",
       "      <td>30127000</td>\n",
       "      <td>0.0</td>\n",
       "      <td>0</td>\n",
       "      <td>NaN</td>\n",
       "      <td>NaN</td>\n",
       "    </tr>\n",
       "    <tr>\n",
       "      <th>2021-03-23</th>\n",
       "      <td>237.490005</td>\n",
       "      <td>241.050003</td>\n",
       "      <td>237.070007</td>\n",
       "      <td>237.580002</td>\n",
       "      <td>31638400</td>\n",
       "      <td>0.0</td>\n",
       "      <td>0</td>\n",
       "      <td>NaN</td>\n",
       "      <td>NaN</td>\n",
       "    </tr>\n",
       "    <tr>\n",
       "      <th>2021-03-24</th>\n",
       "      <td>237.850006</td>\n",
       "      <td>238.000000</td>\n",
       "      <td>235.320007</td>\n",
       "      <td>235.460007</td>\n",
       "      <td>25620100</td>\n",
       "      <td>0.0</td>\n",
       "      <td>0</td>\n",
       "      <td>NaN</td>\n",
       "      <td>NaN</td>\n",
       "    </tr>\n",
       "    <tr>\n",
       "      <th>2021-03-25</th>\n",
       "      <td>235.300003</td>\n",
       "      <td>236.940002</td>\n",
       "      <td>231.570007</td>\n",
       "      <td>232.339996</td>\n",
       "      <td>34061900</td>\n",
       "      <td>0.0</td>\n",
       "      <td>0</td>\n",
       "      <td>NaN</td>\n",
       "      <td>NaN</td>\n",
       "    </tr>\n",
       "    <tr>\n",
       "      <th>2021-03-26</th>\n",
       "      <td>231.550003</td>\n",
       "      <td>236.710007</td>\n",
       "      <td>231.550003</td>\n",
       "      <td>236.479996</td>\n",
       "      <td>25471700</td>\n",
       "      <td>0.0</td>\n",
       "      <td>0</td>\n",
       "      <td>NaN</td>\n",
       "      <td>NaN</td>\n",
       "    </tr>\n",
       "  </tbody>\n",
       "</table>\n",
       "<p>251 rows × 9 columns</p>\n",
       "</div>"
      ],
      "text/plain": [
       "                  Open        High         Low       Close    Volume  \\\n",
       "Date                                                                   \n",
       "2020-03-30  150.906491  158.984406  148.500928  158.618118  63420300   \n",
       "2020-03-31  157.796460  163.122343  154.985034  156.123474  77927200   \n",
       "2020-04-01  151.460850  156.163066  149.302787  150.579803  57969900   \n",
       "2020-04-02  150.332329  153.915908  148.847419  153.698120  49630700   \n",
       "2020-04-03  153.539729  155.796792  150.659000  152.282501  41243300   \n",
       "...                ...         ...         ...         ...       ...   \n",
       "2021-03-22  230.270004  236.899994  230.139999  235.990005  30127000   \n",
       "2021-03-23  237.490005  241.050003  237.070007  237.580002  31638400   \n",
       "2021-03-24  237.850006  238.000000  235.320007  235.460007  25620100   \n",
       "2021-03-25  235.300003  236.940002  231.570007  232.339996  34061900   \n",
       "2021-03-26  231.550003  236.710007  231.550003  236.479996  25471700   \n",
       "\n",
       "            Dividends  Stock Splits         min  max  \n",
       "Date                                                  \n",
       "2020-03-30        0.0             0         NaN  NaN  \n",
       "2020-03-31        0.0             0         NaN  NaN  \n",
       "2020-04-01        0.0             0  150.579803  NaN  \n",
       "2020-04-02        0.0             0         NaN  NaN  \n",
       "2020-04-03        0.0             0         NaN  NaN  \n",
       "...               ...           ...         ...  ...  \n",
       "2021-03-22        0.0             0         NaN  NaN  \n",
       "2021-03-23        0.0             0         NaN  NaN  \n",
       "2021-03-24        0.0             0         NaN  NaN  \n",
       "2021-03-25        0.0             0         NaN  NaN  \n",
       "2021-03-26        0.0             0         NaN  NaN  \n",
       "\n",
       "[251 rows x 9 columns]"
      ]
     },
     "execution_count": 131,
     "metadata": {},
     "output_type": "execute_result"
    }
   ],
   "source": [
    "df"
   ]
  },
  {
   "cell_type": "markdown",
   "metadata": {},
   "source": [
    "# Hold"
   ]
  },
  {
   "cell_type": "markdown",
   "metadata": {},
   "source": [
    "Assume you held for 1 year, and then sold."
   ]
  },
  {
   "cell_type": "code",
   "execution_count": 132,
   "metadata": {},
   "outputs": [],
   "source": [
    "profit_hold = df['Close'][-1] - df['Close'][0]"
   ]
  },
  {
   "cell_type": "code",
   "execution_count": 133,
   "metadata": {},
   "outputs": [
    {
     "data": {
      "text/plain": [
       "77.86187744140625"
      ]
     },
     "execution_count": 133,
     "metadata": {},
     "output_type": "execute_result"
    }
   ],
   "source": [
    "profit_hold"
   ]
  },
  {
   "cell_type": "markdown",
   "metadata": {},
   "source": [
    "# Trade"
   ]
  },
  {
   "cell_type": "markdown",
   "metadata": {},
   "source": [
    "Testing 'buy low, sell high'. \n",
    "\n",
    "You can change trade frequency by changing the sensitivity variable, as in the real world no trader can perfectly know when to sell/buy. "
   ]
  },
  {
   "cell_type": "code",
   "execution_count": 134,
   "metadata": {},
   "outputs": [],
   "source": [
    "sell_total = df.loc[df['max'].notnull(), 'Close'].sum()\n",
    "\n",
    "buy_total = df.loc[df['min'].notnull(), 'Close'].sum()"
   ]
  },
  {
   "cell_type": "code",
   "execution_count": 135,
   "metadata": {},
   "outputs": [],
   "source": [
    "profit_trade = sell_total - buy_total"
   ]
  },
  {
   "cell_type": "code",
   "execution_count": 136,
   "metadata": {},
   "outputs": [
    {
     "data": {
      "text/plain": [
       "240.4122314453125"
      ]
     },
     "execution_count": 136,
     "metadata": {},
     "output_type": "execute_result"
    }
   ],
   "source": [
    "profit_trade"
   ]
  },
  {
   "cell_type": "markdown",
   "metadata": {},
   "source": [
    "# Thoughts"
   ]
  },
  {
   "cell_type": "code",
   "execution_count": 137,
   "metadata": {},
   "outputs": [
    {
     "name": "stdout",
     "output_type": "stream",
     "text": [
      "<class 'pandas.core.frame.DataFrame'>\n",
      "DatetimeIndex: 251 entries, 2020-03-30 to 2021-03-26\n",
      "Data columns (total 9 columns):\n",
      " #   Column        Non-Null Count  Dtype  \n",
      "---  ------        --------------  -----  \n",
      " 0   Open          251 non-null    float64\n",
      " 1   High          251 non-null    float64\n",
      " 2   Low           251 non-null    float64\n",
      " 3   Close         251 non-null    float64\n",
      " 4   Volume        251 non-null    int64  \n",
      " 5   Dividends     251 non-null    float64\n",
      " 6   Stock Splits  251 non-null    int64  \n",
      " 7   min           16 non-null     float64\n",
      " 8   max           16 non-null     float64\n",
      "dtypes: float64(7), int64(2)\n",
      "memory usage: 19.6 KB\n"
     ]
    }
   ],
   "source": [
    "df.info()"
   ]
  },
  {
   "cell_type": "markdown",
   "metadata": {},
   "source": [
    "Even though the trade profit is higher than hold profit, the methodology is nothing to ride home about. Just looking at local minima and maxima and summing them up is an extremely naive way to go about it. Ideally local minimas and maximas should alternate, otherwise the analysis is moot, (unless you short sell). \n",
    "\n",
    "And changing the sensitivity variable changes the results by a whole lot.\n",
    "\n",
    "I will have to come back sometime later and fix that issue, it's going to take A LOT of code."
   ]
  },
  {
   "cell_type": "code",
   "execution_count": null,
   "metadata": {},
   "outputs": [],
   "source": []
  }
 ],
 "metadata": {
  "kernelspec": {
   "display_name": "Python 3",
   "language": "python",
   "name": "python3"
  },
  "language_info": {
   "codemirror_mode": {
    "name": "ipython",
    "version": 3
   },
   "file_extension": ".py",
   "mimetype": "text/x-python",
   "name": "python",
   "nbconvert_exporter": "python",
   "pygments_lexer": "ipython3",
   "version": "3.8.5"
  }
 },
 "nbformat": 4,
 "nbformat_minor": 4
}

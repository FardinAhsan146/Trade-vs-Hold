{
 "cells": [
  {
   "cell_type": "markdown",
   "metadata": {},
   "source": [
    "# Holding vs trading as an investment strategy, naive \n",
    "\n",
    "H0 = Trading proft > Holding profit"
   ]
  },
  {
   "cell_type": "code",
   "execution_count": 1,
   "metadata": {},
   "outputs": [],
   "source": [
    "import pandas as pd\n",
    "import yfinance as yf\n",
    "import datetime\n",
    "import time\n",
    "from matplotlib import pyplot as plt\n",
    "import numpy as np\n",
    "from scipy.signal import argrelextrema\n"
   ]
  },
  {
   "cell_type": "markdown",
   "metadata": {},
   "source": [
    "I'll use Microsoft stock price as an example, you can use this for any other time series. (Just adjust the local minimums and maximums such that it starts with a buy and ends with a sell). \n",
    "\n",
    "It's obvious that you won't be buying and selling only one stock. This is just exploration into an idea."
   ]
  },
  {
   "cell_type": "code",
   "execution_count": 2,
   "metadata": {},
   "outputs": [],
   "source": [
    "#Starting from today, to a year ago\n",
    "start = datetime.datetime.now() - datetime.timedelta(days=365)\n",
    "end = datetime.datetime.now()\n",
    "\n",
    "tickerSymbol = 'MSFT'\n",
    "tickerData = yf.Ticker(tickerSymbol)\n",
    "\n",
    "df = tickerData.history(period = '1d', start = start, end = end)"
   ]
  },
  {
   "cell_type": "code",
   "execution_count": 3,
   "metadata": {},
   "outputs": [
    {
     "data": {
      "text/html": [
       "<div>\n",
       "<style scoped>\n",
       "    .dataframe tbody tr th:only-of-type {\n",
       "        vertical-align: middle;\n",
       "    }\n",
       "\n",
       "    .dataframe tbody tr th {\n",
       "        vertical-align: top;\n",
       "    }\n",
       "\n",
       "    .dataframe thead th {\n",
       "        text-align: right;\n",
       "    }\n",
       "</style>\n",
       "<table border=\"1\" class=\"dataframe\">\n",
       "  <thead>\n",
       "    <tr style=\"text-align: right;\">\n",
       "      <th></th>\n",
       "      <th>Open</th>\n",
       "      <th>High</th>\n",
       "      <th>Low</th>\n",
       "      <th>Close</th>\n",
       "      <th>Volume</th>\n",
       "      <th>Dividends</th>\n",
       "      <th>Stock Splits</th>\n",
       "    </tr>\n",
       "    <tr>\n",
       "      <th>Date</th>\n",
       "      <th></th>\n",
       "      <th></th>\n",
       "      <th></th>\n",
       "      <th></th>\n",
       "      <th></th>\n",
       "      <th></th>\n",
       "      <th></th>\n",
       "    </tr>\n",
       "  </thead>\n",
       "  <tbody>\n",
       "    <tr>\n",
       "      <th>2020-04-13</th>\n",
       "      <td>162.696652</td>\n",
       "      <td>163.904380</td>\n",
       "      <td>160.667272</td>\n",
       "      <td>163.844971</td>\n",
       "      <td>41905300</td>\n",
       "      <td>0.0</td>\n",
       "      <td>0</td>\n",
       "    </tr>\n",
       "    <tr>\n",
       "      <th>2020-04-14</th>\n",
       "      <td>167.299890</td>\n",
       "      <td>172.002106</td>\n",
       "      <td>166.309950</td>\n",
       "      <td>171.952606</td>\n",
       "      <td>52874300</td>\n",
       "      <td>0.0</td>\n",
       "      <td>0</td>\n",
       "    </tr>\n",
       "    <tr>\n",
       "      <th>2020-04-15</th>\n",
       "      <td>169.477773</td>\n",
       "      <td>171.823941</td>\n",
       "      <td>167.537498</td>\n",
       "      <td>170.150940</td>\n",
       "      <td>40940800</td>\n",
       "      <td>0.0</td>\n",
       "      <td>0</td>\n",
       "    </tr>\n",
       "    <tr>\n",
       "      <th>2020-04-16</th>\n",
       "      <td>172.546576</td>\n",
       "      <td>175.496594</td>\n",
       "      <td>171.160651</td>\n",
       "      <td>175.259003</td>\n",
       "      <td>50479600</td>\n",
       "      <td>0.0</td>\n",
       "      <td>0</td>\n",
       "    </tr>\n",
       "    <tr>\n",
       "      <th>2020-04-17</th>\n",
       "      <td>177.694254</td>\n",
       "      <td>178.189224</td>\n",
       "      <td>174.100767</td>\n",
       "      <td>176.803314</td>\n",
       "      <td>52765600</td>\n",
       "      <td>0.0</td>\n",
       "      <td>0</td>\n",
       "    </tr>\n",
       "    <tr>\n",
       "      <th>...</th>\n",
       "      <td>...</td>\n",
       "      <td>...</td>\n",
       "      <td>...</td>\n",
       "      <td>...</td>\n",
       "      <td>...</td>\n",
       "      <td>...</td>\n",
       "      <td>...</td>\n",
       "    </tr>\n",
       "    <tr>\n",
       "      <th>2021-04-05</th>\n",
       "      <td>242.759995</td>\n",
       "      <td>249.960007</td>\n",
       "      <td>242.699997</td>\n",
       "      <td>249.070007</td>\n",
       "      <td>36910600</td>\n",
       "      <td>0.0</td>\n",
       "      <td>0</td>\n",
       "    </tr>\n",
       "    <tr>\n",
       "      <th>2021-04-06</th>\n",
       "      <td>247.610001</td>\n",
       "      <td>249.399994</td>\n",
       "      <td>246.880005</td>\n",
       "      <td>247.860001</td>\n",
       "      <td>22931900</td>\n",
       "      <td>0.0</td>\n",
       "      <td>0</td>\n",
       "    </tr>\n",
       "    <tr>\n",
       "      <th>2021-04-07</th>\n",
       "      <td>247.809998</td>\n",
       "      <td>250.929993</td>\n",
       "      <td>247.190002</td>\n",
       "      <td>249.899994</td>\n",
       "      <td>22719800</td>\n",
       "      <td>0.0</td>\n",
       "      <td>0</td>\n",
       "    </tr>\n",
       "    <tr>\n",
       "      <th>2021-04-08</th>\n",
       "      <td>252.770004</td>\n",
       "      <td>254.139999</td>\n",
       "      <td>252.000000</td>\n",
       "      <td>253.250000</td>\n",
       "      <td>23625200</td>\n",
       "      <td>0.0</td>\n",
       "      <td>0</td>\n",
       "    </tr>\n",
       "    <tr>\n",
       "      <th>2021-04-09</th>\n",
       "      <td>252.869995</td>\n",
       "      <td>255.990005</td>\n",
       "      <td>252.440002</td>\n",
       "      <td>255.850006</td>\n",
       "      <td>24315700</td>\n",
       "      <td>0.0</td>\n",
       "      <td>0</td>\n",
       "    </tr>\n",
       "  </tbody>\n",
       "</table>\n",
       "<p>251 rows × 7 columns</p>\n",
       "</div>"
      ],
      "text/plain": [
       "                  Open        High         Low       Close    Volume  \\\n",
       "Date                                                                   \n",
       "2020-04-13  162.696652  163.904380  160.667272  163.844971  41905300   \n",
       "2020-04-14  167.299890  172.002106  166.309950  171.952606  52874300   \n",
       "2020-04-15  169.477773  171.823941  167.537498  170.150940  40940800   \n",
       "2020-04-16  172.546576  175.496594  171.160651  175.259003  50479600   \n",
       "2020-04-17  177.694254  178.189224  174.100767  176.803314  52765600   \n",
       "...                ...         ...         ...         ...       ...   \n",
       "2021-04-05  242.759995  249.960007  242.699997  249.070007  36910600   \n",
       "2021-04-06  247.610001  249.399994  246.880005  247.860001  22931900   \n",
       "2021-04-07  247.809998  250.929993  247.190002  249.899994  22719800   \n",
       "2021-04-08  252.770004  254.139999  252.000000  253.250000  23625200   \n",
       "2021-04-09  252.869995  255.990005  252.440002  255.850006  24315700   \n",
       "\n",
       "            Dividends  Stock Splits  \n",
       "Date                                 \n",
       "2020-04-13        0.0             0  \n",
       "2020-04-14        0.0             0  \n",
       "2020-04-15        0.0             0  \n",
       "2020-04-16        0.0             0  \n",
       "2020-04-17        0.0             0  \n",
       "...               ...           ...  \n",
       "2021-04-05        0.0             0  \n",
       "2021-04-06        0.0             0  \n",
       "2021-04-07        0.0             0  \n",
       "2021-04-08        0.0             0  \n",
       "2021-04-09        0.0             0  \n",
       "\n",
       "[251 rows x 7 columns]"
      ]
     },
     "execution_count": 3,
     "metadata": {},
     "output_type": "execute_result"
    }
   ],
   "source": [
    "df"
   ]
  },
  {
   "cell_type": "code",
   "execution_count": 4,
   "metadata": {},
   "outputs": [
    {
     "data": {
      "text/plain": [
       "<matplotlib.legend.Legend at 0x2bb87f81cd0>"
      ]
     },
     "execution_count": 4,
     "metadata": {},
     "output_type": "execute_result"
    },
    {
     "data": {
      "image/png": "[encoded data removed]",
      "text/plain": [
       "<Figure size 1080x360 with 1 Axes>"
      ]
     },
     "metadata": {
      "needs_background": "light"
     },
     "output_type": "display_data"
    }
   ],
   "source": [
    "plt.figure(figsize=(15,5))\n",
    "plt.plot(df[\"Close\"],label=\"Closing price, MSFT\")\n",
    "plt.grid()\n",
    "plt.legend(loc='upper left',fontsize=\"x-large\")"
   ]
  },
  {
   "cell_type": "markdown",
   "metadata": {},
   "source": [
    "I'll add in the local minima and local maxima points into the plot."
   ]
  },
  {
   "cell_type": "code",
   "execution_count": 114,
   "metadata": {},
   "outputs": [
    {
     "data": {
      "text/plain": [
       "<matplotlib.legend.Legend at 0x2bb889b83d0>"
      ]
     },
     "execution_count": 114,
     "metadata": {},
     "output_type": "execute_result"
    },
    {
     "data": {
      "image/png": "[encoded data removed]",
      "text/plain": [
       "<Figure size 1080x360 with 1 Axes>"
      ]
     },
     "metadata": {
      "needs_background": "light"
     },
     "output_type": "display_data"
    }
   ],
   "source": [
    "#Identify local minima and maxima\n",
    "\n",
    "df['min'] = df.iloc[argrelextrema(df['Close'].values, np.less_equal)[0]]['Close']\n",
    "\n",
    "df['max'] = df.iloc[argrelextrema(df['Close'].values, np.greater_equal)[0]]['Close']\n",
    "\n",
    "\n",
    "#Plot\n",
    "plt.figure(figsize=(15,5))\n",
    "plt.scatter(df.index, df['min'], c='r', label = 'Local Minima, buy')\n",
    "plt.scatter(df.index, df['max'], c='g', label = 'Local Maxima, sell')\n",
    "plt.plot(df[\"Close\"],label=\"Closing price, MSFT\")\n",
    "plt.grid()\n",
    "plt.legend(loc='upper left',fontsize=\"x-large\")"
   ]
  },
  {
   "cell_type": "markdown",
   "metadata": {},
   "source": [
    "Got kind of lucky that it started with a buy and ended with a sell, it wouldn't have been the end of the world if it didn't happen that way, but the code will be much cleaner now."
   ]
  },
  {
   "cell_type": "code",
   "execution_count": 100,
   "metadata": {},
   "outputs": [
    {
     "data": {
      "text/html": [
       "<div>\n",
       "<style scoped>\n",
       "    .dataframe tbody tr th:only-of-type {\n",
       "        vertical-align: middle;\n",
       "    }\n",
       "\n",
       "    .dataframe tbody tr th {\n",
       "        vertical-align: top;\n",
       "    }\n",
       "\n",
       "    .dataframe thead th {\n",
       "        text-align: right;\n",
       "    }\n",
       "</style>\n",
       "<table border=\"1\" class=\"dataframe\">\n",
       "  <thead>\n",
       "    <tr style=\"text-align: right;\">\n",
       "      <th></th>\n",
       "      <th>Open</th>\n",
       "      <th>High</th>\n",
       "      <th>Low</th>\n",
       "      <th>Close</th>\n",
       "      <th>Volume</th>\n",
       "      <th>Dividends</th>\n",
       "      <th>Stock Splits</th>\n",
       "      <th>min</th>\n",
       "      <th>max</th>\n",
       "    </tr>\n",
       "    <tr>\n",
       "      <th>Date</th>\n",
       "      <th></th>\n",
       "      <th></th>\n",
       "      <th></th>\n",
       "      <th></th>\n",
       "      <th></th>\n",
       "      <th></th>\n",
       "      <th></th>\n",
       "      <th></th>\n",
       "      <th></th>\n",
       "    </tr>\n",
       "  </thead>\n",
       "  <tbody>\n",
       "    <tr>\n",
       "      <th>2020-04-13</th>\n",
       "      <td>162.696652</td>\n",
       "      <td>163.904380</td>\n",
       "      <td>160.667272</td>\n",
       "      <td>163.844971</td>\n",
       "      <td>41905300</td>\n",
       "      <td>0.0</td>\n",
       "      <td>0</td>\n",
       "      <td>163.844971</td>\n",
       "      <td>NaN</td>\n",
       "    </tr>\n",
       "    <tr>\n",
       "      <th>2020-04-14</th>\n",
       "      <td>167.299890</td>\n",
       "      <td>172.002106</td>\n",
       "      <td>166.309950</td>\n",
       "      <td>171.952606</td>\n",
       "      <td>52874300</td>\n",
       "      <td>0.0</td>\n",
       "      <td>0</td>\n",
       "      <td>NaN</td>\n",
       "      <td>171.952606</td>\n",
       "    </tr>\n",
       "    <tr>\n",
       "      <th>2020-04-15</th>\n",
       "      <td>169.477773</td>\n",
       "      <td>171.823941</td>\n",
       "      <td>167.537498</td>\n",
       "      <td>170.150940</td>\n",
       "      <td>40940800</td>\n",
       "      <td>0.0</td>\n",
       "      <td>0</td>\n",
       "      <td>170.150940</td>\n",
       "      <td>NaN</td>\n",
       "    </tr>\n",
       "    <tr>\n",
       "      <th>2020-04-16</th>\n",
       "      <td>172.546576</td>\n",
       "      <td>175.496594</td>\n",
       "      <td>171.160651</td>\n",
       "      <td>175.259003</td>\n",
       "      <td>50479600</td>\n",
       "      <td>0.0</td>\n",
       "      <td>0</td>\n",
       "      <td>NaN</td>\n",
       "      <td>NaN</td>\n",
       "    </tr>\n",
       "    <tr>\n",
       "      <th>2020-04-17</th>\n",
       "      <td>177.694254</td>\n",
       "      <td>178.189224</td>\n",
       "      <td>174.100767</td>\n",
       "      <td>176.803314</td>\n",
       "      <td>52765600</td>\n",
       "      <td>0.0</td>\n",
       "      <td>0</td>\n",
       "      <td>NaN</td>\n",
       "      <td>176.803314</td>\n",
       "    </tr>\n",
       "    <tr>\n",
       "      <th>...</th>\n",
       "      <td>...</td>\n",
       "      <td>...</td>\n",
       "      <td>...</td>\n",
       "      <td>...</td>\n",
       "      <td>...</td>\n",
       "      <td>...</td>\n",
       "      <td>...</td>\n",
       "      <td>...</td>\n",
       "      <td>...</td>\n",
       "    </tr>\n",
       "    <tr>\n",
       "      <th>2021-04-05</th>\n",
       "      <td>242.759995</td>\n",
       "      <td>249.960007</td>\n",
       "      <td>242.699997</td>\n",
       "      <td>249.070007</td>\n",
       "      <td>36910600</td>\n",
       "      <td>0.0</td>\n",
       "      <td>0</td>\n",
       "      <td>NaN</td>\n",
       "      <td>249.070007</td>\n",
       "    </tr>\n",
       "    <tr>\n",
       "      <th>2021-04-06</th>\n",
       "      <td>247.610001</td>\n",
       "      <td>249.399994</td>\n",
       "      <td>246.880005</td>\n",
       "      <td>247.860001</td>\n",
       "      <td>22931900</td>\n",
       "      <td>0.0</td>\n",
       "      <td>0</td>\n",
       "      <td>247.860001</td>\n",
       "      <td>NaN</td>\n",
       "    </tr>\n",
       "    <tr>\n",
       "      <th>2021-04-07</th>\n",
       "      <td>247.809998</td>\n",
       "      <td>250.929993</td>\n",
       "      <td>247.190002</td>\n",
       "      <td>249.899994</td>\n",
       "      <td>22719800</td>\n",
       "      <td>0.0</td>\n",
       "      <td>0</td>\n",
       "      <td>NaN</td>\n",
       "      <td>NaN</td>\n",
       "    </tr>\n",
       "    <tr>\n",
       "      <th>2021-04-08</th>\n",
       "      <td>252.770004</td>\n",
       "      <td>254.139999</td>\n",
       "      <td>252.000000</td>\n",
       "      <td>253.250000</td>\n",
       "      <td>23625200</td>\n",
       "      <td>0.0</td>\n",
       "      <td>0</td>\n",
       "      <td>NaN</td>\n",
       "      <td>NaN</td>\n",
       "    </tr>\n",
       "    <tr>\n",
       "      <th>2021-04-09</th>\n",
       "      <td>252.869995</td>\n",
       "      <td>255.990005</td>\n",
       "      <td>252.440002</td>\n",
       "      <td>255.850006</td>\n",
       "      <td>24315700</td>\n",
       "      <td>0.0</td>\n",
       "      <td>0</td>\n",
       "      <td>NaN</td>\n",
       "      <td>255.850006</td>\n",
       "    </tr>\n",
       "  </tbody>\n",
       "</table>\n",
       "<p>251 rows × 9 columns</p>\n",
       "</div>"
      ],
      "text/plain": [
       "                  Open        High         Low       Close    Volume  \\\n",
       "Date                                                                   \n",
       "2020-04-13  162.696652  163.904380  160.667272  163.844971  41905300   \n",
       "2020-04-14  167.299890  172.002106  166.309950  171.952606  52874300   \n",
       "2020-04-15  169.477773  171.823941  167.537498  170.150940  40940800   \n",
       "2020-04-16  172.546576  175.496594  171.160651  175.259003  50479600   \n",
       "2020-04-17  177.694254  178.189224  174.100767  176.803314  52765600   \n",
       "...                ...         ...         ...         ...       ...   \n",
       "2021-04-05  242.759995  249.960007  242.699997  249.070007  36910600   \n",
       "2021-04-06  247.610001  249.399994  246.880005  247.860001  22931900   \n",
       "2021-04-07  247.809998  250.929993  247.190002  249.899994  22719800   \n",
       "2021-04-08  252.770004  254.139999  252.000000  253.250000  23625200   \n",
       "2021-04-09  252.869995  255.990005  252.440002  255.850006  24315700   \n",
       "\n",
       "            Dividends  Stock Splits         min         max  \n",
       "Date                                                         \n",
       "2020-04-13        0.0             0  163.844971         NaN  \n",
       "2020-04-14        0.0             0         NaN  171.952606  \n",
       "2020-04-15        0.0             0  170.150940         NaN  \n",
       "2020-04-16        0.0             0         NaN         NaN  \n",
       "2020-04-17        0.0             0         NaN  176.803314  \n",
       "...               ...           ...         ...         ...  \n",
       "2021-04-05        0.0             0         NaN  249.070007  \n",
       "2021-04-06        0.0             0  247.860001         NaN  \n",
       "2021-04-07        0.0             0         NaN         NaN  \n",
       "2021-04-08        0.0             0         NaN         NaN  \n",
       "2021-04-09        0.0             0         NaN  255.850006  \n",
       "\n",
       "[251 rows x 9 columns]"
      ]
     },
     "execution_count": 100,
     "metadata": {},
     "output_type": "execute_result"
    }
   ],
   "source": [
    "df"
   ]
  },
  {
   "cell_type": "markdown",
   "metadata": {},
   "source": [
    "# Hold"
   ]
  },
  {
   "cell_type": "markdown",
   "metadata": {},
   "source": [
    "Assume you held for 1 year, and then sold."
   ]
  },
  {
   "cell_type": "code",
   "execution_count": 101,
   "metadata": {},
   "outputs": [],
   "source": [
    "profit_hold = df['Close'][-1] - df['Close'][0]"
   ]
  },
  {
   "cell_type": "code",
   "execution_count": 102,
   "metadata": {},
   "outputs": [
    {
     "data": {
      "text/plain": [
       "92.00503540039062"
      ]
     },
     "execution_count": 102,
     "metadata": {},
     "output_type": "execute_result"
    }
   ],
   "source": [
    "profit_hold"
   ]
  },
  {
   "cell_type": "markdown",
   "metadata": {},
   "source": [
    "# Trade"
   ]
  },
  {
   "cell_type": "markdown",
   "metadata": {},
   "source": [
    "Testing 'buy low, sell high'. \n",
    "\n",
    "You can change trade frequency by changing the sensitivity variable, as in the real world no trader can perfectly know when to sell/buy. "
   ]
  },
  {
   "cell_type": "code",
   "execution_count": 115,
   "metadata": {},
   "outputs": [],
   "source": [
    "sell_total = df.loc[df['max'].notnull(), 'Close'].sum()\n",
    "\n",
    "buy_total = df.loc[df['min'].notnull(), 'Close'].sum()\n",
    "\n",
    "profit_trade = sell_total - buy_total"
   ]
  },
  {
   "cell_type": "code",
   "execution_count": 116,
   "metadata": {},
   "outputs": [
    {
     "data": {
      "text/plain": [
       "415.58514404296875"
      ]
     },
     "execution_count": 116,
     "metadata": {},
     "output_type": "execute_result"
    }
   ],
   "source": [
    "profit_trade"
   ]
  },
  {
   "cell_type": "markdown",
   "metadata": {},
   "source": [
    "# Thoughts"
   ]
  },
  {
   "cell_type": "code",
   "execution_count": 106,
   "metadata": {},
   "outputs": [
    {
     "name": "stdout",
     "output_type": "stream",
     "text": [
      "<class 'pandas.core.frame.DataFrame'>\n",
      "DatetimeIndex: 251 entries, 2020-04-13 to 2021-04-09\n",
      "Data columns (total 9 columns):\n",
      " #   Column        Non-Null Count  Dtype  \n",
      "---  ------        --------------  -----  \n",
      " 0   Open          251 non-null    float64\n",
      " 1   High          251 non-null    float64\n",
      " 2   Low           251 non-null    float64\n",
      " 3   Close         251 non-null    float64\n",
      " 4   Volume        251 non-null    int64  \n",
      " 5   Dividends     251 non-null    float64\n",
      " 6   Stock Splits  251 non-null    int64  \n",
      " 7   min           73 non-null     float64\n",
      " 8   max           73 non-null     float64\n",
      "dtypes: float64(7), int64(2)\n",
      "memory usage: 19.6 KB\n"
     ]
    }
   ],
   "source": [
    "df.info()"
   ]
  },
  {
   "cell_type": "markdown",
   "metadata": {},
   "source": [
    "Proved a truism that trading is more profitable than holding (especially with leverage). "
   ]
  }
 ],
 "metadata": {
  "kernelspec": {
   "display_name": "Python 3",
   "language": "python",
   "name": "python3"
  },
  "language_info": {
   "codemirror_mode": {
    "name": "ipython",
    "version": 3
   },
   "file_extension": ".py",
   "mimetype": "text/x-python",
   "name": "python",
   "nbconvert_exporter": "python",
   "pygments_lexer": "ipython3",
   "version": "3.8.5"
  }
 },
 "nbformat": 4,
 "nbformat_minor": 4
}
